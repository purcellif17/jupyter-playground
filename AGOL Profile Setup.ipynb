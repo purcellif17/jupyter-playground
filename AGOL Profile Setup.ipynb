{
 "cells": [
  {
   "cell_type": "markdown",
   "metadata": {},
   "source": [
    "# If you don't already have your ArcGIS Online (AGOL) credentials stored in the Windows Credential Manager, this code snippet will help you out."
   ]
  },
  {
   "cell_type": "code",
   "execution_count": null,
   "metadata": {},
   "outputs": [],
   "source": [
    "# Calls the ArcGIS Python API\n",
    "from arcgis import GIS\n",
    "# The getpass library will help obuscate your password as you enter it.\n",
    "import getpass\n",
    "# Prompt user for AGOL username\n",
    "user = input(\"ArcGIS Online Username: \")\n",
    "# Prompt user for AGOL password\n",
    "pwd = getpass.getpass(prompt='AGOL Password: ')\n",
    "# Saves credential information to the Windows Credential manager\n",
    "prof = GIS(url='https://arcgis.com',username=user,password=pwd,profile='AGOL')"
   ]
  },
  {
   "cell_type": "code",
   "execution_count": null,
   "metadata": {},
   "outputs": [],
   "source": [
    "# Testing whether the profile was configured correctly. If it is, then your AGOL profile should appear as the output.\n",
    "gis = GIS(profile='AGOL')\n",
    "gis.users.me"
   ]
  },
  {
   "cell_type": "markdown",
   "metadata": {},
   "source": [
    "### This will work on any profile, not just AGOL. Just switch the url parameter in the GIS function from 'https://arcgis.com' to your organization's ArcGIS URL."
   ]
  },
  {
   "cell_type": "code",
   "execution_count": null,
   "metadata": {},
   "outputs": [],
   "source": []
  }
 ],
 "metadata": {
  "kernelspec": {
   "display_name": "Python 3",
   "language": "python",
   "name": "python3"
  },
  "language_info": {
   "codemirror_mode": {
    "name": "ipython",
    "version": 3
   },
   "file_extension": ".py",
   "mimetype": "text/x-python",
   "name": "python",
   "nbconvert_exporter": "python",
   "pygments_lexer": "ipython3",
   "version": "3.6.10"
  }
 },
 "nbformat": 4,
 "nbformat_minor": 4
}
