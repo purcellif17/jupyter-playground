{
 "cells": [
  {
   "cell_type": "markdown",
   "metadata": {},
   "source": [
    "## Spreadsheet Exporter\n",
    "\n",
    "### You know when people ask for a spreadsheet from ArcGIS Online? Are you like me and don't want to go through the far too many button presses to get a spreadsheet? You've come to the right place.\n",
    "\n",
    "### This notebook will help you download a spreadsheet from AGOL as a CSV. All of this code can be run as one big block (I'll set it up that way at the end), but for demo purposes I've built this notebook to explain what's happening. \n",
    "\n",
    "#### First let's import the libraries we'll need."
   ]
  },
  {
   "cell_type": "code",
   "execution_count": null,
   "metadata": {},
   "outputs": [],
   "source": [
    "# Libraries needed\n",
    "from arcgis import GIS\n",
    "import pandas as pd\n",
    "\n",
    "# A date stamp just to make exporting the product easier\n",
    "today = datetime.datetime.today().strftime('%Y%m%d')"
   ]
  },
  {
   "cell_type": "markdown",
   "metadata": {},
   "source": [
    "#### Next, let's sign in using our ArcGIS profile. In this example, I use my stored credentials. If you're unfamiliar with working with stored credentials, I recommend checking out [this notebook](https://github.com/purcellif17/jupyter-playground/blob/master/AGOL%20Profile%20Setup.ipynb)."
   ]
  },
  {
   "cell_type": "code",
   "execution_count": null,
   "metadata": {},
   "outputs": [],
   "source": [
    "# Asks user for the profile name of their stored credentials.\n",
    "profile_name = input(\"Profile Name: \")\n",
    "gis = GIS(profile=profile_name)\n",
    "gis.users.me"
   ]
  },
  {
   "cell_type": "markdown",
   "metadata": {},
   "source": [
    "#### Great! Now we need a spreadsheet to download from ArcGIS Online. We can ask the user for a Feature Layer ID. Let's do that."
   ]
  },
  {
   "cell_type": "code",
   "execution_count": null,
   "metadata": {},
   "outputs": [],
   "source": [
    "# Ask user for feature class ID\n",
    "fcid = input(\"Feature Class ID: \")\n",
    "\n",
    "# Call item from ArcGIS Online\n",
    "item = gis.content.get(fcid)\n",
    "fl = item.layers[0]\n",
    "\n",
    "# Query it using a spatial dataframe. It might be helpful to limit output\n",
    "# to only certain fields or if certain criteria is met, so feel free to play\n",
    "# around with this section\n",
    "sdf = f1.query(where='1=1',return_geometry=False,out_fields='*').sdf\n",
    "\n",
    "# Asks user for where to export the data to.\n",
    "out_path = input(\"Output location: \")\n",
    "\n",
    "# Generates the CSV path. CSV name will be today's date as \n",
    "# YYYYMMDD_{item title in AGOL}\n",
    "csv_path = f\"{out_path}/{today}_{item.title}.csv\"\n",
    "sdf.to_csv(csv_path)"
   ]
  },
  {
   "cell_type": "markdown",
   "metadata": {},
   "source": [
    "#### Tada! you have a csv of the feature layer that you wanted.\n",
    "\n",
    "## Here's a full code block so you can run the whole thing at once."
   ]
  },
  {
   "cell_type": "code",
   "execution_count": null,
   "metadata": {},
   "outputs": [],
   "source": [
    "# Libraries needed\n",
    "from arcgis import GIS\n",
    "import pandas as pd\n",
    "\n",
    "# A date stamp just to make exporting the product easier\n",
    "today = datetime.datetime.today().strftime('%Y%m%d')\n",
    "\n",
    "# Asks user for the profile name of their stored credentials.\n",
    "profile_name = input(\"Profile Name: \")\n",
    "gis = GIS(profile=profile_name)\n",
    "\n",
    "# Ask user for feature class ID\n",
    "fcid = input(\"Feature Class ID: \")\n",
    "\n",
    "# Call item from ArcGIS Online\n",
    "item = gis.content.get(fcid)\n",
    "fl = item.layers[0]\n",
    "\n",
    "# Query it using a spatial dataframe. It might be helpful to limit output\n",
    "# to only certain fields or if certain criteria is met, so feel free to play\n",
    "# around with this section\n",
    "sdf = f1.query(where='1=1',return_geometry=False,out_fields='*').sdf\n",
    "\n",
    "# Asks user for where to export the data to.\n",
    "out_path = input(\"Output location: \")\n",
    "\n",
    "# Generates the CSV path. CSV name will be today's date as \n",
    "# YYYYMMDD_{item title in AGOL}\n",
    "csv_path = f\"{out_path}/{today}_{item.title}.csv\"\n",
    "sdf.to_csv(csv_path)"
   ]
  }
 ],
 "metadata": {
  "kernelspec": {
   "display_name": "Python 3",
   "language": "python",
   "name": "python3"
  },
  "language_info": {
   "codemirror_mode": {
    "name": "ipython",
    "version": 3
   },
   "file_extension": ".py",
   "mimetype": "text/x-python",
   "name": "python",
   "nbconvert_exporter": "python",
   "pygments_lexer": "ipython3",
   "version": "3.6.10"
  }
 },
 "nbformat": 4,
 "nbformat_minor": 4
}
